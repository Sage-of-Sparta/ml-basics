{
 "cells": [
  {
   "cell_type": "code",
   "execution_count": 4,
   "id": "93b308cb",
   "metadata": {},
   "outputs": [
    {
     "name": "stdout",
     "output_type": "stream",
     "text": [
      "Predictions:\n",
      " Day: 1. Predicted rentals: 685\n",
      " Day: 2. Predicted rentals: 568\n",
      " Day: 3. Predicted rentals: 114\n",
      " Day: 4. Predicted rentals: 230\n",
      " Day: 5. Predicted rentals: 96\n"
     ]
    }
   ],
   "source": [
    "\n",
    "import json\n",
    "import requests\n",
    "import configparser\n",
    "\n",
    "config = configparser.ConfigParser()\n",
    "\n",
    "config.read('conf.ini')\n",
    "\n",
    "endpoint = config['SETTINGS']['endpoint']\n",
    "key = config['SETTINGS']['KEY'] #Replace with your key\n",
    "\n",
    "\n",
    "#An array of features based on five-day weather forecast\n",
    "x = [[1,1,2022,1,0,6,0,2,0.344167,0.363625,0.805833,0.160446],\n",
    "    [2,1,2022,1,0,0,0,2,0.363478,0.353739,0.696087,0.248539],\n",
    "    [3,1,2022,1,0,1,1,1,0.196364,0.189405,0.437273,0.248309],\n",
    "    [4,1,2022,1,0,2,1,1,0.2,0.212122,0.590435,0.160296],\n",
    "    [5,1,2022,1,0,3,1,1,0.226957,0.22927,0.436957,0.1869]]\n",
    "\n",
    "#Convert the array to JSON format\n",
    "input_json = json.dumps({\"data\": x})\n",
    "\n",
    "#Set the content type and authentication for the request\n",
    "headers = {\"Content-Type\":\"application/json\",\n",
    "        \"Authorization\":\"Bearer \" + key}\n",
    "\n",
    "#Send the request\n",
    "response = requests.post(endpoint, input_json, headers=headers)\n",
    "\n",
    "#If we got a valid response, display the predictions\n",
    "if response.status_code == 200:\n",
    "    y = json.loads(response.json())\n",
    "    print(\"Predictions:\")\n",
    "    for i in range(len(x)):\n",
    "        print (\" Day: {}. Predicted rentals: {}\".format(i+1, max(0, round(y[\"result\"][i]))))\n",
    "else:\n",
    "    print(response)"
   ]
  },
  {
   "cell_type": "code",
   "execution_count": null,
   "id": "6339a770",
   "metadata": {},
   "outputs": [],
   "source": []
  }
 ],
 "metadata": {
  "kernelspec": {
   "display_name": "Python 3.6 - AzureML",
   "language": "python",
   "name": "python3-azureml"
  },
  "language_info": {
   "codemirror_mode": {
    "name": "ipython",
    "version": 3
   },
   "file_extension": ".py",
   "mimetype": "text/x-python",
   "name": "python",
   "nbconvert_exporter": "python",
   "pygments_lexer": "ipython3",
   "version": "3.6.9"
  }
 },
 "nbformat": 4,
 "nbformat_minor": 5
}
